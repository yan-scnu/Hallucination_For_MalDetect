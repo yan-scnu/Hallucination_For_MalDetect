{
 "cells": [
  {
   "cell_type": "code",
   "execution_count": 1,
   "metadata": {
    "collapsed": true
   },
   "outputs": [],
   "source": [
    "# 从两个文件中导入原始数据：my_security_train.pkl、my_security_test.pkl\n",
    "\n",
    "import pickle\n",
    "my_security_train = 'my_security_train.pkl'\n",
    "my_security_test = 'my_security_test.pkl'\n",
    "\n",
    "# 读取文件到变量中\n",
    "with open(my_security_train, 'rb') as f:\n",
    "    train_labels = pickle.load(f)\n",
    "    train_apis2 = pickle.load(f)\n",
    "\n",
    "with open(my_security_test, 'rb') as f:\n",
    "    test_files = pickle.load(f)\n",
    "    test_apis2 = pickle.load(f)"
   ]
  },
  {
   "cell_type": "code",
   "execution_count": 2,
   "outputs": [
    {
     "name": "stderr",
     "output_type": "stream",
     "text": [
      "2023-12-27 16:57:23.697361: I tensorflow/core/util/port.cc:110] oneDNN custom operations are on. You may see slightly different numerical results due to floating-point round-off errors from different computation orders. To turn them off, set the environment variable `TF_ENABLE_ONEDNN_OPTS=0`.\n",
      "2023-12-27 16:57:24.027040: I tensorflow/core/platform/cpu_feature_guard.cc:182] This TensorFlow binary is optimized to use available CPU instructions in performance-critical operations.\n",
      "To enable the following instructions: AVX2 AVX_VNNI FMA, in other operations, rebuild TensorFlow with the appropriate compiler flags.\n",
      "2023-12-27 16:57:24.711171: W tensorflow/compiler/tf2tensorrt/utils/py_utils.cc:38] TF-TRT Warning: Could not find TensorRT\n"
     ]
    }
   ],
   "source": [
    "from tensorflow.keras.preprocessing.text import Tokenizer\n",
    "import pickle\n",
    "tokenizer = Tokenizer(num_words=None,\n",
    "                      filters='$><?@',\n",
    "                      lower=True,\n",
    "                      split=\" \",\n",
    "                      char_level=False)"
   ],
   "metadata": {
    "collapsed": false
   }
  },
  {
   "cell_type": "code",
   "execution_count": 3,
   "outputs": [],
   "source": [
    "tokenizer.fit_on_texts(train_apis2)\n",
    "tokenizer.fit_on_texts(test_apis2)"
   ],
   "metadata": {
    "collapsed": false
   }
  },
  {
   "cell_type": "code",
   "execution_count": 4,
   "outputs": [],
   "source": [
    "AliyunSeq = tokenizer.texts_to_sequences(train_apis2)"
   ],
   "metadata": {
    "collapsed": false
   }
  },
  {
   "cell_type": "code",
   "execution_count": 5,
   "outputs": [],
   "source": [
    "from itertools import groupby\n",
    "#序列除重\n",
    "def Repeat(Seq):\n",
    "    SeqR=[]\n",
    "    for i in Seq:\n",
    "        SeqR.append([key for key, group in groupby(i)])\n",
    "    return SeqR"
   ],
   "metadata": {
    "collapsed": false
   }
  },
  {
   "cell_type": "code",
   "execution_count": 6,
   "outputs": [],
   "source": [
    "AliyunSeqR=Repeat(AliyunSeq)"
   ],
   "metadata": {
    "collapsed": false
   }
  },
  {
   "cell_type": "code",
   "execution_count": 10,
   "outputs": [],
   "source": [
    "from tensorflow.keras.preprocessing.sequence import pad_sequences\n",
    "inputLen=100\n",
    "aliyun = pad_sequences(AliyunSeqR, inputLen, padding='post', truncating='post')"
   ],
   "metadata": {
    "collapsed": false
   }
  },
  {
   "cell_type": "code",
   "execution_count": 11,
   "outputs": [],
   "source": [
    "import numpy as np\n",
    "np.save(\"../data/Aliyun_train.npy\",aliyun)\n",
    "np.save(\"../data/Aliyun_label.npy\",np.array(train_labels))"
   ],
   "metadata": {
    "collapsed": false
   }
  }
 ],
 "metadata": {
  "kernelspec": {
   "display_name": "Python 3",
   "language": "python",
   "name": "python3"
  },
  "language_info": {
   "codemirror_mode": {
    "name": "ipython",
    "version": 2
   },
   "file_extension": ".py",
   "mimetype": "text/x-python",
   "name": "python",
   "nbconvert_exporter": "python",
   "pygments_lexer": "ipython2",
   "version": "2.7.6"
  }
 },
 "nbformat": 4,
 "nbformat_minor": 0
}
